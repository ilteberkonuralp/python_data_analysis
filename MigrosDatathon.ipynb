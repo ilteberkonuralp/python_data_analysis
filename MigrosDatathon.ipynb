{
  "nbformat": 4,
  "nbformat_minor": 0,
  "metadata": {
    "colab": {
      "provenance": [],
      "authorship_tag": "ABX9TyOiK1hBHnwSiJ0EW0TWzISG"
    },
    "kernelspec": {
      "name": "python3",
      "display_name": "Python 3"
    },
    "language_info": {
      "name": "python"
    }
  },
  "cells": [
    {
      "cell_type": "code",
      "execution_count": 291,
      "metadata": {
        "colab": {
          "base_uri": "https://localhost:8080/"
        },
        "id": "V3dxF3bcBpRQ",
        "outputId": "bb8912d9-92cc-45aa-ed77-75f5d4ed2c3b"
      },
      "outputs": [
        {
          "output_type": "stream",
          "name": "stdout",
          "text": [
            "Drive already mounted at /gdrive; to attempt to forcibly remount, call drive.mount(\"/gdrive\", force_remount=True).\n",
            "/gdrive\n"
          ]
        }
      ],
      "source": [
        "from google.colab import drive\n",
        "drive.mount('/gdrive')\n",
        "%cd /gdrive"
      ]
    },
    {
      "cell_type": "code",
      "source": [
        "%cd MyDrive/migros-datathon-coderspace/"
      ],
      "metadata": {
        "colab": {
          "base_uri": "https://localhost:8080/"
        },
        "id": "C6X1JCHlGDF5",
        "outputId": "af77545b-4280-4dee-bd56-bcbaef0c0406"
      },
      "execution_count": 292,
      "outputs": [
        {
          "output_type": "stream",
          "name": "stdout",
          "text": [
            "/gdrive/MyDrive/migros-datathon-coderspace\n"
          ]
        }
      ]
    },
    {
      "cell_type": "code",
      "source": [
        "import pandas as pd\n",
        "import numpy as np\n",
        "import matplotlib.pyplot as plt\n",
        "import seaborn as sns\n",
        "import hashlib"
      ],
      "metadata": {
        "id": "9m9YOQl4CTv8"
      },
      "execution_count": 293,
      "outputs": []
    },
    {
      "cell_type": "code",
      "source": [
        "# cust_acc=pd.read_csv('customeraccount.csv')\n",
        "# cust=pd.read_csv('customer.csv')\n",
        "\n",
        "# trans_header=pd.read_csv('transaction_header.csv')\n",
        "# trans_sale=pd.read_csv('transaction_sale/transaction_sale.csv')\n",
        "# train.individualnumber.__len__()==train.individualnumber.unique().__len__()\n",
        "# cust_acc.columns\n",
        "# cust.columns\n",
        "# cust_acc.shape\n",
        "# cust.shape\n",
        "# cust_merge=cust_acc.merge(cust,on='individualnumber',how='left')\n",
        "# cust_merge.describe()\n",
        "# cust_merge.city_code=cust_merge.city_code.replace(99.0,np.nan)\n",
        "# cust_merge.individualnumber=cust_merge.individualnumber.astype('string')\n",
        "# cust_merge.dateofbirth=pd.Series(np.where(cust_merge.dateofbirth>=2005,  np.nan,cust_merge.dateofbirth))\n",
        "# trans_cust_merge=trans_sale.merge(trans_header,on='basketid',how='left').merge(cust_merge,on='cardnumber',how='left')\n",
        "# .apply(lambda x:hashlib.md5(x.encode('utf-8')).hexdigest())\n",
        "# trans_cust_merge=trans_cust_merge.astype({'category_level_1':'string','category_level_2':'string','category_level_3':'string','category_level_4':'string'})\n",
        "# trans_cust_merge['hash']=trans_cust_merge[['category_level_1','category_level_2','category_level_3','category_level_4']].agg(','.join,axis=1)\n",
        "# trans_cust_merge.count()\n",
        "# trans_cust_merge.merge(new_prmerge,on='hash',how='inner').count()\n",
        "# trans_cust_merge.merge(new_prmerge,on='hash',how='left').count()\n",
        "# all_trns_data=trans_cust_merge.merge(new_prmerge,on='hash',how='left')\n",
        "# all_trns_data.info()\n",
        "# all_trns_data.drop(['date_of_transaction','hash','cardnumber'],axis=1,inplace=True)\n",
        "# all_trns_data=all_trns_data.astype({'category_level_1':int,'category_level_2':int,'category_level_3':int,'category_level_4':int})\n",
        "# all_trns_data.is_sanal=np.where(all_trns_data.is_sanal==0,'No','Yes')\n",
        "# all_trns_data.info()\n",
        "# from sklearn.impute import KNNImputer \n",
        "# def imputer(x):\n",
        "#   imputer = KNNImputer()\n",
        "#   x = pd.DataFrame(imputer.fit_transform(x),columns = x .columns)\n",
        "#   return x\n",
        "# def Standardize(x):\n",
        "#   scaler = StandardScaler()\n",
        "#   scale_data=x[['hakkedis_amt','odul_amt','amount','quantity','discount_type_2','discount_type_3']]\n",
        "#   x = x.drop(['hakkedis_amt','odul_amt','amount','quantity','discount_type_2','discount_type_3'], axis=1)\n",
        "#   scaler.fit(scale_data)\n",
        "#   scale_data = scaler.transform(scale_data)\n",
        "#   scale_data = pd.DataFrame(scale_data,columns = ['hakkedis_amt','odul_amt','amount','discount_type_2','discount_type_3'])\n",
        "#   x = pd.concat([scale_data,x], axis=1)\n",
        "#   return x\n",
        "# all_trns_data_wd=create_dummy(all_trns_data)\n",
        "# all_trns_data_wd.individualnumber.dtype\n",
        "# from sklearn.preprocessing import StandardScaler\n",
        "# def create_dummy(x):\n",
        "#   cat_variables = x.loc[:,x.dtypes==object]\n",
        "#   x = x.drop(['genel_kategori', 'gender','is_sanal'], axis=1)\n",
        "#   cat_dummies = pd.get_dummies(cat_variables, drop_first=True)\n",
        "#   x = pd.concat([x, cat_dummies], axis=1)\n",
        "#   return x\n",
        "# all_trns_data_wd.to_csv('transaction_cust_merge.csv',index=False)\n",
        "# def create_greate(x):\n",
        "#   x=x[x.amount>0].reindex(np.arange(x[x.amount>0].shape[0]))\n",
        "#   x.drop(['category_level_1','category_level_2','category_level_3','category_level_4'],axis=1,inplace=True)\n",
        "#   x.cardnumber=x.cardnumber.astype('string')\n",
        "#   x.basketid=x.basketid.astype('string')\n",
        "#   x.drop(['hash'],axis=1,inplace=True)\n",
        "#   x.drop(['date_of_transaction'],axis=1,inplace=True)\n",
        "#   x.drop(['basketid'],axis=1,inplace=True)\n",
        "#   x.drop(['city_code'],axis=1,inplace=True)\n",
        "#   x.drop(['cardnumber'],axis=1,inplace=True)\n",
        "#   x.dropna(subset=['category_number'],inplace=True)\n",
        "#   x['category_number']=x['category_number'].apply(replace_with_key)\n",
        "#   x.drop(['genel_kategori'],axis=1,inplace=True)\n",
        "#   x.individualnumber=x.individualnumber.astype('object')\n",
        "#   return x\n",
        "\n",
        "# def create_x(x):\n",
        "#   x.drop(['category_level_1','category_level_2','category_level_3','category_level_4'],axis=1,inplace=True)\n",
        "#   x.cardnumber=x.cardnumber.astype('string')\n",
        "#   x.basketid=x.basketid.astype('string')\n",
        "#   x.drop(['hash'],axis=1,inplace=True)\n",
        "#   x.drop(['date_of_transaction'],axis=1,inplace=True)\n",
        "#   x.drop(['basketid'],axis=1,inplace=True)\n",
        "#   x.drop(['city_code'],axis=1,inplace=True)\n",
        "#   x.drop(['cardnumber'],axis=1,inplace=True)\n",
        "#   x.dropna(subset=['category_number'],inplace=True)\n",
        "#   x['category_number']=x['category_number'].apply(replace_with_key)\n",
        "#   x.drop(['genel_kategori'],axis=1,inplace=True)\n",
        "#   x.individualnumber=x.individualnumber.astype('object')\n",
        "#   return x"
      ],
      "metadata": {
        "id": "GGyo45MDDMnW"
      },
      "execution_count": 294,
      "outputs": []
    },
    {
      "cell_type": "code",
      "source": [
        "prod_grp=pd.read_csv('product_groups.csv')\n",
        "gen_cat=pd.read_csv('genel_kategoriler.csv')\n",
        "prod_merge=prod_grp.merge(gen_cat,on='category_number',how='left')\n",
        "prod_merge=prod_merge.astype({'category_level_1':'string','category_level_2':'string','category_level_3':'string','category_level_4':'string'})\n",
        "prod_merge['hash']=prod_merge[['category_level_1','category_level_2','category_level_3','category_level_4']].agg(','.join,axis=1)\n",
        "new_prmerge=prod_merge[['category_number','genel_kategori','hash']]\n",
        "dict_code=new_prmerge.loc[:,new_prmerge.columns!='hash'].drop_duplicates().set_index('category_number').to_dict()['genel_kategori']\n",
        "def replace_with_key(x):\n",
        "  for key in dict_code.keys():\n",
        "    if x is np.nan:\n",
        "      return np.nan\n",
        "    elif int(x)==key:\n",
        "      return dict_code[key]\n"
      ],
      "metadata": {
        "id": "VcCcWDgVmyPs"
      },
      "execution_count": 295,
      "outputs": []
    },
    {
      "cell_type": "code",
      "source": [
        "keys=[]\n",
        "values=[]\n",
        "for k,v in dict_code.items():\n",
        "  keys.append(k)\n",
        "  values.append(v)\n",
        "keys=np.array(keys)\n",
        "values=np.array(values)"
      ],
      "metadata": {
        "id": "9d4Mg5FHm9_d"
      },
      "execution_count": 296,
      "outputs": []
    },
    {
      "cell_type": "code",
      "source": [
        "diger=keys[values=='diger']"
      ],
      "metadata": {
        "id": "ZgGKF71noLSK"
      },
      "execution_count": 297,
      "outputs": []
    },
    {
      "cell_type": "code",
      "source": [
        "train=pd.read_csv('train.csv')\n",
        "test=pd.read_csv('test.csv')\n"
      ],
      "metadata": {
        "id": "tWhsWS7tYSIA"
      },
      "execution_count": 298,
      "outputs": []
    },
    {
      "cell_type": "code",
      "source": [
        "train.individualnumber.dtype"
      ],
      "metadata": {
        "colab": {
          "base_uri": "https://localhost:8080/"
        },
        "id": "b-L5-oAfe5p6",
        "outputId": "11368997-cbea-439d-d420-41c9fbe62e01"
      },
      "execution_count": 299,
      "outputs": [
        {
          "output_type": "execute_result",
          "data": {
            "text/plain": [
              "dtype('int64')"
            ]
          },
          "metadata": {},
          "execution_count": 299
        }
      ]
    },
    {
      "cell_type": "code",
      "source": [
        "test.individualnumber.dtype"
      ],
      "metadata": {
        "colab": {
          "base_uri": "https://localhost:8080/"
        },
        "id": "LV1oJH-Ae8Sp",
        "outputId": "a877f68c-3575-460d-acb8-3a2628f94b8f"
      },
      "execution_count": 300,
      "outputs": [
        {
          "output_type": "execute_result",
          "data": {
            "text/plain": [
              "dtype('int64')"
            ]
          },
          "metadata": {},
          "execution_count": 300
        }
      ]
    },
    {
      "cell_type": "code",
      "source": [
        "all_trns_data=pd.read_csv('transaction_cust_merge.csv')"
      ],
      "metadata": {
        "id": "l6Dmg7L9PGE-"
      },
      "execution_count": 301,
      "outputs": []
    },
    {
      "cell_type": "code",
      "source": [
        "uti=all_trns_data.individualnumber.unique()\n",
        "ttri=train.individualnumber.unique()\n",
        "tti=test.individualnumber.unique()"
      ],
      "metadata": {
        "id": "8QdfYrBXhXN5"
      },
      "execution_count": 302,
      "outputs": []
    },
    {
      "cell_type": "code",
      "source": [
        "%ls"
      ],
      "metadata": {
        "colab": {
          "base_uri": "https://localhost:8080/"
        },
        "id": "NCNfS_b6K3MS",
        "outputId": "2a8978a4-10a1-4d18-bfb1-923dda6cfd3c"
      },
      "execution_count": 303,
      "outputs": [
        {
          "output_type": "stream",
          "name": "stdout",
          "text": [
            "customeraccount.csv    results.csv            transaction_cust_merge.csv\n",
            "customer.csv           sample_submission.csv  transaction_header.csv\n",
            "genel_kategoriler.csv  test.csv               \u001b[0m\u001b[01;34mtransaction_sale\u001b[0m/\n",
            "product_groups.csv     train.csv\n"
          ]
        }
      ]
    },
    {
      "cell_type": "code",
      "source": [
        "list(set(list(ttri))-set(list(uti)))"
      ],
      "metadata": {
        "colab": {
          "base_uri": "https://localhost:8080/"
        },
        "id": "SAXbJePQe0x5",
        "outputId": "29294f44-f5c6-4394-a919-2ae44fba8ce4"
      },
      "execution_count": 304,
      "outputs": [
        {
          "output_type": "execute_result",
          "data": {
            "text/plain": [
              "[93216452, 100082740, 97109981, 93025287]"
            ]
          },
          "metadata": {},
          "execution_count": 304
        }
      ]
    },
    {
      "cell_type": "code",
      "source": [
        "list(set(list(tti))-set(list(uti)))"
      ],
      "metadata": {
        "colab": {
          "base_uri": "https://localhost:8080/"
        },
        "id": "B9ZSLtrOiBG1",
        "outputId": "6d0081dc-de06-450c-86b4-68f58abf3e6a"
      },
      "execution_count": 305,
      "outputs": [
        {
          "output_type": "execute_result",
          "data": {
            "text/plain": [
              "[98853500,\n",
              " 100061761,\n",
              " 99900583,\n",
              " 95660489,\n",
              " 93883791,\n",
              " 98854718,\n",
              " 100129462,\n",
              " 20835032,\n",
              " 98732540,\n",
              " 99081693,\n",
              " 100125374]"
            ]
          },
          "metadata": {},
          "execution_count": 305
        }
      ]
    },
    {
      "cell_type": "code",
      "source": [
        "train_y=train.loc[:,'response']"
      ],
      "metadata": {
        "id": "TTI-FUvhiZCO"
      },
      "execution_count": 306,
      "outputs": []
    },
    {
      "cell_type": "code",
      "source": [
        "train_X=train.iloc[:,train.columns!='response']"
      ],
      "metadata": {
        "id": "lDoe2mfSiixK"
      },
      "execution_count": 307,
      "outputs": []
    },
    {
      "cell_type": "code",
      "source": [
        "train_X.dtypes"
      ],
      "metadata": {
        "colab": {
          "base_uri": "https://localhost:8080/"
        },
        "id": "BlYhxMYjjSau",
        "outputId": "89049c93-7057-445c-9535-d315ef560fd7"
      },
      "execution_count": 308,
      "outputs": [
        {
          "output_type": "execute_result",
          "data": {
            "text/plain": [
              "individualnumber      int64\n",
              "category_number       int64\n",
              "hakkedis_amt        float64\n",
              "odul_amt            float64\n",
              "dtype: object"
            ]
          },
          "metadata": {},
          "execution_count": 308
        }
      ]
    },
    {
      "cell_type": "code",
      "source": [
        "train_X.category_number=train_X.category_number.astype(float)"
      ],
      "metadata": {
        "colab": {
          "base_uri": "https://localhost:8080/"
        },
        "id": "DzTHEYu7jWo0",
        "outputId": "3b36068c-964f-4c23-e059-032b64b4d814"
      },
      "execution_count": 309,
      "outputs": [
        {
          "output_type": "stream",
          "name": "stderr",
          "text": [
            "/usr/local/lib/python3.8/dist-packages/pandas/core/generic.py:5516: SettingWithCopyWarning: \n",
            "A value is trying to be set on a copy of a slice from a DataFrame.\n",
            "Try using .loc[row_indexer,col_indexer] = value instead\n",
            "\n",
            "See the caveats in the documentation: https://pandas.pydata.org/pandas-docs/stable/user_guide/indexing.html#returning-a-view-versus-a-copy\n",
            "  self[name] = value\n"
          ]
        }
      ]
    },
    {
      "cell_type": "code",
      "source": [
        "train_X.category_number.dtype"
      ],
      "metadata": {
        "colab": {
          "base_uri": "https://localhost:8080/"
        },
        "id": "QH7XS2mDjyQB",
        "outputId": "f7037984-1903-4056-c132-ce76cc1187ed"
      },
      "execution_count": 310,
      "outputs": [
        {
          "output_type": "execute_result",
          "data": {
            "text/plain": [
              "dtype('float64')"
            ]
          },
          "metadata": {},
          "execution_count": 310
        }
      ]
    },
    {
      "cell_type": "code",
      "source": [
        "train_test_full=test.merge(train_X,on=['individualnumber','category_number','hakkedis_amt','odul_amt'],how='outer')"
      ],
      "metadata": {
        "id": "SZ4e1dP2Z3oE"
      },
      "execution_count": 311,
      "outputs": []
    },
    {
      "cell_type": "code",
      "source": [
        "all_trns_data.discount_type_1=all_trns_data.discount_type_1.fillna(all_trns_data.discount_type_1.median())"
      ],
      "metadata": {
        "id": "rE_Kyy51ayxj"
      },
      "execution_count": 312,
      "outputs": []
    },
    {
      "cell_type": "code",
      "source": [
        "all_trns_data.city_code=all_trns_data.city_code.fillna(all_trns_data.city_code.mode()[0])"
      ],
      "metadata": {
        "id": "U6vovMUVbOdU"
      },
      "execution_count": 313,
      "outputs": []
    },
    {
      "cell_type": "code",
      "source": [
        "diger=diger.astype(float)"
      ],
      "metadata": {
        "id": "PRjV8ed9pZr_"
      },
      "execution_count": 314,
      "outputs": []
    },
    {
      "cell_type": "code",
      "source": [
        "import random\n",
        "def impute_cat(col):\n",
        "    a = col.values\n",
        "    m = np.isnan(a)\n",
        "    a[m] = random.choices(diger,k=m.sum())\n",
        "    return col"
      ],
      "metadata": {
        "id": "wC1zMVM7o29P"
      },
      "execution_count": 315,
      "outputs": []
    },
    {
      "cell_type": "code",
      "source": [
        "all_trns_data.category_number=impute_cat(all_trns_data.category_number)"
      ],
      "metadata": {
        "id": "bCs-gcvNcdly"
      },
      "execution_count": 316,
      "outputs": []
    },
    {
      "cell_type": "code",
      "source": [
        "all_trns_data.dateofbirth=pd.Series(np.where(all_trns_data.dateofbirth<1950,np.nan,all_trns_data.dateofbirth))"
      ],
      "metadata": {
        "id": "K36REqlQs4NL"
      },
      "execution_count": 317,
      "outputs": []
    },
    {
      "cell_type": "code",
      "source": [
        "bdates=all_trns_data.dateofbirth[~all_trns_data.dateofbirth.isna()].unique()"
      ],
      "metadata": {
        "id": "_5uN6EmOta5c"
      },
      "execution_count": 318,
      "outputs": []
    },
    {
      "cell_type": "code",
      "source": [
        "\n",
        "def impute_dob(col):\n",
        "    a = col.values\n",
        "    m = np.isnan(a)\n",
        "    a[m] = random.choices(bdates,k=m.sum())\n",
        "    return col"
      ],
      "metadata": {
        "id": "muepaHK7th5J"
      },
      "execution_count": 319,
      "outputs": []
    },
    {
      "cell_type": "code",
      "source": [
        "all_trns_data.dateofbirth=impute_dob(all_trns_data.dateofbirth)"
      ],
      "metadata": {
        "id": "hF-nN1W_tmUK"
      },
      "execution_count": 320,
      "outputs": []
    },
    {
      "cell_type": "code",
      "source": [
        "all_trns_data.discount_type_2=all_trns_data.discount_type_2.fillna(all_trns_data.discount_type_2.mean())"
      ],
      "metadata": {
        "id": "Vt5HyhTCt_Ui"
      },
      "execution_count": 321,
      "outputs": []
    },
    {
      "cell_type": "code",
      "source": [
        "all_trns_data.discount_type_3=all_trns_data.discount_type_3.fillna(all_trns_data.discount_type_3.mean())"
      ],
      "metadata": {
        "id": "ExhIvnuiuFRA"
      },
      "execution_count": 322,
      "outputs": []
    },
    {
      "cell_type": "code",
      "source": [
        "make_great=all_trns_data.merge(train_test_full,on=['individualnumber','category_number'],how='outer')"
      ],
      "metadata": {
        "id": "oEbrTumaiS8e"
      },
      "execution_count": 323,
      "outputs": []
    },
    {
      "cell_type": "code",
      "source": [
        "\n",
        "def found_cat(df):\n",
        "  check=values[df.category_number==keys]\n",
        "  if check=='gida':\n",
        "      df.genel_kategori_gida=1\n",
        "      df.genel_kategori_hijyen=0\n",
        "      df.genel_kategori_icecek=0\n",
        "      df.genel_kategori_kisisel_bakim=0\n",
        "      return df\n",
        "  elif check=='hijyen':\n",
        "      df.genel_kategori_gida=0\n",
        "      df.genel_kategori_hijyen=1\n",
        "      df.genel_kategori_icecek=0\n",
        "      df.genel_kategori_kisisel_bakim=0\n",
        "      return df\n",
        "  elif check=='icecek':\n",
        "      df.genel_kategori_gida=0\n",
        "      df.genel_kategori_hijyen=0\n",
        "      df.genel_kategori_icecek=1\n",
        "      df.genel_kategori_kisisel_bakim=0\n",
        "      return df\n",
        "  elif check=='kisisel_bakim':\n",
        "      df.genel_kategori_gida=0\n",
        "      df.genel_kategori_hijyen=0\n",
        "      df.genel_kategori_icecek=0\n",
        "      df.genel_kategori_kisisel_bakim=1\n",
        "      return df\n",
        "  else:\n",
        "    df.genel_kategori_gida=0\n",
        "    df.genel_kategori_hijyen=0\n",
        "    df.genel_kategori_icecek=0\n",
        "    df.genel_kategori_kisisel_bakim=0\n",
        "    return df"
      ],
      "metadata": {
        "id": "f_CoQRvMvXhZ"
      },
      "execution_count": 324,
      "outputs": []
    },
    {
      "cell_type": "code",
      "source": [
        "ttt=make_great[~make_great.hakkedis_amt.isna()].reset_index(drop=True)"
      ],
      "metadata": {
        "id": "FIAb2ewLu7FO"
      },
      "execution_count": 325,
      "outputs": []
    },
    {
      "cell_type": "code",
      "source": [
        "ttt=ttt.apply(found_cat,axis=1)"
      ],
      "metadata": {
        "id": "WrbsutDQzOlZ"
      },
      "execution_count": 326,
      "outputs": []
    },
    {
      "cell_type": "code",
      "source": [
        "ttt.amount=ttt.amount.fillna(all_trns_data.amount.mean())"
      ],
      "metadata": {
        "id": "T_cQj23nAeg3"
      },
      "execution_count": 327,
      "outputs": []
    },
    {
      "cell_type": "code",
      "source": [
        "ttt.dateofbirth=impute_dob(ttt.dateofbirth)"
      ],
      "metadata": {
        "id": "SIj-QjqVB_Cs"
      },
      "execution_count": 328,
      "outputs": []
    },
    {
      "cell_type": "code",
      "source": [
        "def impute_gen(col):\n",
        "    a = col.values\n",
        "    m = np.isnan(a)\n",
        "    a[m] = random.choices([0,1],k=m.sum())\n",
        "    return col"
      ],
      "metadata": {
        "id": "oOUhiFx9Fu7q"
      },
      "execution_count": 329,
      "outputs": []
    },
    {
      "cell_type": "code",
      "source": [
        "ttt.gender_K=impute_gen(ttt.gender_K).astype(int)"
      ],
      "metadata": {
        "id": "INS2XGhvF1NL"
      },
      "execution_count": 330,
      "outputs": []
    },
    {
      "cell_type": "code",
      "source": [
        "def impute_is_sanal(col):\n",
        "    a = col.values\n",
        "    m = np.isnan(a)\n",
        "    a[m] = random.choices([0,1],k=m.sum(),weights=[0.84,0.16])\n",
        "    return col"
      ],
      "metadata": {
        "id": "mw-FdQsRGScE"
      },
      "execution_count": 331,
      "outputs": []
    },
    {
      "cell_type": "code",
      "source": [
        "(all_trns_data.is_sanal_Yes==0).sum()/(all_trns_data.is_sanal_Yes.__len__())"
      ],
      "metadata": {
        "colab": {
          "base_uri": "https://localhost:8080/"
        },
        "id": "OwLBgOOgGZfF",
        "outputId": "3e00036a-d3c9-4aa0-89dd-6f4d8d7e747a"
      },
      "execution_count": 332,
      "outputs": [
        {
          "output_type": "execute_result",
          "data": {
            "text/plain": [
              "0.8432039898836657"
            ]
          },
          "metadata": {},
          "execution_count": 332
        }
      ]
    },
    {
      "cell_type": "code",
      "source": [
        "ttt.is_sanal_Yes=impute_is_sanal(ttt.is_sanal_Yes).astype(int)"
      ],
      "metadata": {
        "id": "jADJnx8lGpj6"
      },
      "execution_count": 333,
      "outputs": []
    },
    {
      "cell_type": "code",
      "source": [
        "maxcities=all_trns_data.city_code.value_counts().index[0:5].astype(int)"
      ],
      "metadata": {
        "id": "4SYneNcmI2q_"
      },
      "execution_count": 334,
      "outputs": []
    },
    {
      "cell_type": "code",
      "source": [
        "ratios=(all_trns_data.city_code.value_counts()/all_trns_data.shape[0]).values[0:5]"
      ],
      "metadata": {
        "id": "Uj9G--gWQMdG"
      },
      "execution_count": 335,
      "outputs": []
    },
    {
      "cell_type": "code",
      "source": [
        "def impute_cc(col):\n",
        "    a = col.values\n",
        "    m = np.isnan(a)\n",
        "    a[m] = random.choices(maxcities,k=m.sum(),weights=ratios)\n",
        "    return col"
      ],
      "metadata": {
        "id": "4OBb-9nDP_76"
      },
      "execution_count": 336,
      "outputs": []
    },
    {
      "cell_type": "code",
      "source": [
        "ttt.city_code=impute_cc(ttt.city_code).astype(int)"
      ],
      "metadata": {
        "id": "rcl_Za1_Qg77"
      },
      "execution_count": 337,
      "outputs": []
    },
    {
      "cell_type": "code",
      "source": [
        "ttt.discount_type_1=ttt.discount_type_1.fillna(all_trns_data.discount_type_1.mode()[0])"
      ],
      "metadata": {
        "id": "7sMS2P-AS8gg"
      },
      "execution_count": 338,
      "outputs": []
    },
    {
      "cell_type": "code",
      "source": [
        "ttt.discount_type_2=ttt.discount_type_2.fillna(all_trns_data.discount_type_2.mode()[0])"
      ],
      "metadata": {
        "id": "JxFGcJHwTc2n"
      },
      "execution_count": 339,
      "outputs": []
    },
    {
      "cell_type": "code",
      "source": [
        "ttt.discount_type_3=ttt.discount_type_3.fillna(all_trns_data.discount_type_3.mode()[0])"
      ],
      "metadata": {
        "id": "FS6moSudTf2n"
      },
      "execution_count": 340,
      "outputs": []
    },
    {
      "cell_type": "code",
      "source": [
        "dict_of_mean_qc=all_trns_data.loc[:,['quantity','category_number']].groupby('category_number').mean().to_dict()['quantity']"
      ],
      "metadata": {
        "id": "DUWJ3oNwTkfQ"
      },
      "execution_count": 341,
      "outputs": []
    },
    {
      "cell_type": "code",
      "source": [
        "def replace_with_key(df):\n",
        "  for key in dict_of_mean_qc.keys():\n",
        "    if df.category_number==key:\n",
        "      # print(df.quantity)\n",
        "      df.quantity=round(dict_of_mean_qc[key],2)\n",
        "      return df\n",
        "  else:\n",
        "    df.quantity=all_trns_data.quantity.mean()\n",
        "    return df"
      ],
      "metadata": {
        "id": "3DNOTEhAU_b9"
      },
      "execution_count": 342,
      "outputs": []
    },
    {
      "cell_type": "code",
      "source": [
        "ttt[ttt.quantity.isna()]=ttt[ttt.quantity.isna()].apply(replace_with_key,axis=1)"
      ],
      "metadata": {
        "id": "USg5ACHzYkQ5"
      },
      "execution_count": 343,
      "outputs": []
    },
    {
      "cell_type": "code",
      "source": [
        "ttt.shape"
      ],
      "metadata": {
        "colab": {
          "base_uri": "https://localhost:8080/"
        },
        "id": "itI4JKnkd9cB",
        "outputId": "d77f756e-07dc-4c92-b5c8-97e6e2be8433"
      },
      "execution_count": 344,
      "outputs": [
        {
          "output_type": "execute_result",
          "data": {
            "text/plain": [
              "(150115, 22)"
            ]
          },
          "metadata": {},
          "execution_count": 344
        }
      ]
    },
    {
      "cell_type": "code",
      "source": [
        "ttt.drop(['basketid','category_level_1','category_level_2','category_level_3','category_level_4'],axis=1,inplace=True)"
      ],
      "metadata": {
        "id": "mlyjR71IBG4A"
      },
      "execution_count": 345,
      "outputs": []
    },
    {
      "cell_type": "code",
      "source": [
        "ttt.head(4)"
      ],
      "metadata": {
        "colab": {
          "base_uri": "https://localhost:8080/",
          "height": 239
        },
        "id": "fswz87x5E-_M",
        "outputId": "ba51ffd6-6296-4f88-98aa-3e3771959384"
      },
      "execution_count": 346,
      "outputs": [
        {
          "output_type": "execute_result",
          "data": {
            "text/plain": [
              "   amount  quantity  discount_type_1  discount_type_2  discount_type_3  \\\n",
              "0    5.00       1.0         0.479799              0.0              0.0   \n",
              "1   18.95       1.0         1.818439              0.0              0.0   \n",
              "2    6.45       1.0         0.618941              0.0              0.0   \n",
              "3   10.00       1.0         1.083726              0.0              0.0   \n",
              "\n",
              "   individualnumber  city_code  dateofbirth  category_number  is_sanal_Yes  \\\n",
              "0        95993648.0       34.0       1984.0           9006.0           0.0   \n",
              "1        95993648.0       34.0       1984.0           9006.0           0.0   \n",
              "2        95993648.0       34.0       1984.0           9006.0           0.0   \n",
              "3        93522155.0       35.0       1957.0           9038.0           0.0   \n",
              "\n",
              "   gender_K  genel_kategori_gida  genel_kategori_hijyen  \\\n",
              "0       0.0                  0.0                    0.0   \n",
              "1       0.0                  0.0                    0.0   \n",
              "2       0.0                  0.0                    0.0   \n",
              "3       0.0                  1.0                    0.0   \n",
              "\n",
              "   genel_kategori_icecek  genel_kategori_kisisel_bakim  hakkedis_amt  odul_amt  \n",
              "0                    1.0                           0.0          32.0       3.0  \n",
              "1                    1.0                           0.0          32.0       3.0  \n",
              "2                    1.0                           0.0          32.0       3.0  \n",
              "3                    0.0                           0.0          16.0       1.0  "
            ],
            "text/html": [
              "\n",
              "  <div id=\"df-e9962ac9-ef32-4db9-a662-6c08a1fc68ce\">\n",
              "    <div class=\"colab-df-container\">\n",
              "      <div>\n",
              "<style scoped>\n",
              "    .dataframe tbody tr th:only-of-type {\n",
              "        vertical-align: middle;\n",
              "    }\n",
              "\n",
              "    .dataframe tbody tr th {\n",
              "        vertical-align: top;\n",
              "    }\n",
              "\n",
              "    .dataframe thead th {\n",
              "        text-align: right;\n",
              "    }\n",
              "</style>\n",
              "<table border=\"1\" class=\"dataframe\">\n",
              "  <thead>\n",
              "    <tr style=\"text-align: right;\">\n",
              "      <th></th>\n",
              "      <th>amount</th>\n",
              "      <th>quantity</th>\n",
              "      <th>discount_type_1</th>\n",
              "      <th>discount_type_2</th>\n",
              "      <th>discount_type_3</th>\n",
              "      <th>individualnumber</th>\n",
              "      <th>city_code</th>\n",
              "      <th>dateofbirth</th>\n",
              "      <th>category_number</th>\n",
              "      <th>is_sanal_Yes</th>\n",
              "      <th>gender_K</th>\n",
              "      <th>genel_kategori_gida</th>\n",
              "      <th>genel_kategori_hijyen</th>\n",
              "      <th>genel_kategori_icecek</th>\n",
              "      <th>genel_kategori_kisisel_bakim</th>\n",
              "      <th>hakkedis_amt</th>\n",
              "      <th>odul_amt</th>\n",
              "    </tr>\n",
              "  </thead>\n",
              "  <tbody>\n",
              "    <tr>\n",
              "      <th>0</th>\n",
              "      <td>5.00</td>\n",
              "      <td>1.0</td>\n",
              "      <td>0.479799</td>\n",
              "      <td>0.0</td>\n",
              "      <td>0.0</td>\n",
              "      <td>95993648.0</td>\n",
              "      <td>34.0</td>\n",
              "      <td>1984.0</td>\n",
              "      <td>9006.0</td>\n",
              "      <td>0.0</td>\n",
              "      <td>0.0</td>\n",
              "      <td>0.0</td>\n",
              "      <td>0.0</td>\n",
              "      <td>1.0</td>\n",
              "      <td>0.0</td>\n",
              "      <td>32.0</td>\n",
              "      <td>3.0</td>\n",
              "    </tr>\n",
              "    <tr>\n",
              "      <th>1</th>\n",
              "      <td>18.95</td>\n",
              "      <td>1.0</td>\n",
              "      <td>1.818439</td>\n",
              "      <td>0.0</td>\n",
              "      <td>0.0</td>\n",
              "      <td>95993648.0</td>\n",
              "      <td>34.0</td>\n",
              "      <td>1984.0</td>\n",
              "      <td>9006.0</td>\n",
              "      <td>0.0</td>\n",
              "      <td>0.0</td>\n",
              "      <td>0.0</td>\n",
              "      <td>0.0</td>\n",
              "      <td>1.0</td>\n",
              "      <td>0.0</td>\n",
              "      <td>32.0</td>\n",
              "      <td>3.0</td>\n",
              "    </tr>\n",
              "    <tr>\n",
              "      <th>2</th>\n",
              "      <td>6.45</td>\n",
              "      <td>1.0</td>\n",
              "      <td>0.618941</td>\n",
              "      <td>0.0</td>\n",
              "      <td>0.0</td>\n",
              "      <td>95993648.0</td>\n",
              "      <td>34.0</td>\n",
              "      <td>1984.0</td>\n",
              "      <td>9006.0</td>\n",
              "      <td>0.0</td>\n",
              "      <td>0.0</td>\n",
              "      <td>0.0</td>\n",
              "      <td>0.0</td>\n",
              "      <td>1.0</td>\n",
              "      <td>0.0</td>\n",
              "      <td>32.0</td>\n",
              "      <td>3.0</td>\n",
              "    </tr>\n",
              "    <tr>\n",
              "      <th>3</th>\n",
              "      <td>10.00</td>\n",
              "      <td>1.0</td>\n",
              "      <td>1.083726</td>\n",
              "      <td>0.0</td>\n",
              "      <td>0.0</td>\n",
              "      <td>93522155.0</td>\n",
              "      <td>35.0</td>\n",
              "      <td>1957.0</td>\n",
              "      <td>9038.0</td>\n",
              "      <td>0.0</td>\n",
              "      <td>0.0</td>\n",
              "      <td>1.0</td>\n",
              "      <td>0.0</td>\n",
              "      <td>0.0</td>\n",
              "      <td>0.0</td>\n",
              "      <td>16.0</td>\n",
              "      <td>1.0</td>\n",
              "    </tr>\n",
              "  </tbody>\n",
              "</table>\n",
              "</div>\n",
              "      <button class=\"colab-df-convert\" onclick=\"convertToInteractive('df-e9962ac9-ef32-4db9-a662-6c08a1fc68ce')\"\n",
              "              title=\"Convert this dataframe to an interactive table.\"\n",
              "              style=\"display:none;\">\n",
              "        \n",
              "  <svg xmlns=\"http://www.w3.org/2000/svg\" height=\"24px\"viewBox=\"0 0 24 24\"\n",
              "       width=\"24px\">\n",
              "    <path d=\"M0 0h24v24H0V0z\" fill=\"none\"/>\n",
              "    <path d=\"M18.56 5.44l.94 2.06.94-2.06 2.06-.94-2.06-.94-.94-2.06-.94 2.06-2.06.94zm-11 1L8.5 8.5l.94-2.06 2.06-.94-2.06-.94L8.5 2.5l-.94 2.06-2.06.94zm10 10l.94 2.06.94-2.06 2.06-.94-2.06-.94-.94-2.06-.94 2.06-2.06.94z\"/><path d=\"M17.41 7.96l-1.37-1.37c-.4-.4-.92-.59-1.43-.59-.52 0-1.04.2-1.43.59L10.3 9.45l-7.72 7.72c-.78.78-.78 2.05 0 2.83L4 21.41c.39.39.9.59 1.41.59.51 0 1.02-.2 1.41-.59l7.78-7.78 2.81-2.81c.8-.78.8-2.07 0-2.86zM5.41 20L4 18.59l7.72-7.72 1.47 1.35L5.41 20z\"/>\n",
              "  </svg>\n",
              "      </button>\n",
              "      \n",
              "  <style>\n",
              "    .colab-df-container {\n",
              "      display:flex;\n",
              "      flex-wrap:wrap;\n",
              "      gap: 12px;\n",
              "    }\n",
              "\n",
              "    .colab-df-convert {\n",
              "      background-color: #E8F0FE;\n",
              "      border: none;\n",
              "      border-radius: 50%;\n",
              "      cursor: pointer;\n",
              "      display: none;\n",
              "      fill: #1967D2;\n",
              "      height: 32px;\n",
              "      padding: 0 0 0 0;\n",
              "      width: 32px;\n",
              "    }\n",
              "\n",
              "    .colab-df-convert:hover {\n",
              "      background-color: #E2EBFA;\n",
              "      box-shadow: 0px 1px 2px rgba(60, 64, 67, 0.3), 0px 1px 3px 1px rgba(60, 64, 67, 0.15);\n",
              "      fill: #174EA6;\n",
              "    }\n",
              "\n",
              "    [theme=dark] .colab-df-convert {\n",
              "      background-color: #3B4455;\n",
              "      fill: #D2E3FC;\n",
              "    }\n",
              "\n",
              "    [theme=dark] .colab-df-convert:hover {\n",
              "      background-color: #434B5C;\n",
              "      box-shadow: 0px 1px 3px 1px rgba(0, 0, 0, 0.15);\n",
              "      filter: drop-shadow(0px 1px 2px rgba(0, 0, 0, 0.3));\n",
              "      fill: #FFFFFF;\n",
              "    }\n",
              "  </style>\n",
              "\n",
              "      <script>\n",
              "        const buttonEl =\n",
              "          document.querySelector('#df-e9962ac9-ef32-4db9-a662-6c08a1fc68ce button.colab-df-convert');\n",
              "        buttonEl.style.display =\n",
              "          google.colab.kernel.accessAllowed ? 'block' : 'none';\n",
              "\n",
              "        async function convertToInteractive(key) {\n",
              "          const element = document.querySelector('#df-e9962ac9-ef32-4db9-a662-6c08a1fc68ce');\n",
              "          const dataTable =\n",
              "            await google.colab.kernel.invokeFunction('convertToInteractive',\n",
              "                                                     [key], {});\n",
              "          if (!dataTable) return;\n",
              "\n",
              "          const docLinkHtml = 'Like what you see? Visit the ' +\n",
              "            '<a target=\"_blank\" href=https://colab.research.google.com/notebooks/data_table.ipynb>data table notebook</a>'\n",
              "            + ' to learn more about interactive tables.';\n",
              "          element.innerHTML = '';\n",
              "          dataTable['output_type'] = 'display_data';\n",
              "          await google.colab.output.renderOutput(dataTable, element);\n",
              "          const docLink = document.createElement('div');\n",
              "          docLink.innerHTML = docLinkHtml;\n",
              "          element.appendChild(docLink);\n",
              "        }\n",
              "      </script>\n",
              "    </div>\n",
              "  </div>\n",
              "  "
            ]
          },
          "metadata": {},
          "execution_count": 346
        }
      ]
    },
    {
      "cell_type": "code",
      "source": [
        "ttt['flag1']=((ttt.amount)>ttt.hakkedis_amt).astype(int)"
      ],
      "metadata": {
        "id": "O03-wfVFFCul"
      },
      "execution_count": 347,
      "outputs": []
    },
    {
      "cell_type": "code",
      "source": [
        "ttt_m=ttt.groupby(['individualnumber','category_number']).mean().reset_index()"
      ],
      "metadata": {
        "id": "U5dhlAVjFp-2"
      },
      "execution_count": 348,
      "outputs": []
    },
    {
      "cell_type": "code",
      "source": [
        "train_X.columns"
      ],
      "metadata": {
        "colab": {
          "base_uri": "https://localhost:8080/"
        },
        "id": "1GQv2JgOOXGJ",
        "outputId": "7c1e34d0-7d9b-4ed2-8a88-4092b69a0b29"
      },
      "execution_count": 349,
      "outputs": [
        {
          "output_type": "execute_result",
          "data": {
            "text/plain": [
              "Index(['individualnumber', 'category_number', 'hakkedis_amt', 'odul_amt'], dtype='object')"
            ]
          },
          "metadata": {},
          "execution_count": 349
        }
      ]
    },
    {
      "cell_type": "code",
      "source": [
        "test.shape"
      ],
      "metadata": {
        "colab": {
          "base_uri": "https://localhost:8080/"
        },
        "id": "U8Er8-JCOi6D",
        "outputId": "fb87af31-c4ff-4894-fc34-18a24eecb47c"
      },
      "execution_count": 350,
      "outputs": [
        {
          "output_type": "execute_result",
          "data": {
            "text/plain": [
              "(13236, 4)"
            ]
          },
          "metadata": {},
          "execution_count": 350
        }
      ]
    },
    {
      "cell_type": "code",
      "source": [
        "new_test=ttt_m.merge(test,on=['individualnumber', 'category_number', 'hakkedis_amt', 'odul_amt'],how='inner')"
      ],
      "metadata": {
        "id": "keIeDlGkOp5l"
      },
      "execution_count": 351,
      "outputs": []
    },
    {
      "cell_type": "code",
      "source": [
        "new_train=ttt_m.merge(train_X,on=['individualnumber', 'category_number', 'hakkedis_amt', 'odul_amt'],how='inner')"
      ],
      "metadata": {
        "id": "GgaaiyhrOR0n"
      },
      "execution_count": 352,
      "outputs": []
    },
    {
      "cell_type": "code",
      "source": [
        "new_train.flag1=np.where(new_train.flag1>=0.5,1,0)"
      ],
      "metadata": {
        "id": "hJhAzMsmOxMw"
      },
      "execution_count": 353,
      "outputs": []
    },
    {
      "cell_type": "code",
      "source": [
        "new_test.flag1=np.where(new_test.flag1>=0.5,1,0)"
      ],
      "metadata": {
        "id": "BcEbM1iJPXq1"
      },
      "execution_count": 354,
      "outputs": []
    },
    {
      "cell_type": "code",
      "source": [
        "train_ws=new_train.drop(['individualnumber','category_number'],axis=1)\n",
        "train_wot=new_train.drop(['individualnumber','genel_kategori_kisisel_bakim','genel_kategori_gida','genel_kategori_hijyen','genel_kategori_icecek'],axis=1)\n",
        "test_ws=new_test.drop(['individualnumber','category_number'],axis=1)\n",
        "test_wot=new_test.drop(['individualnumber','genel_kategori_kisisel_bakim','genel_kategori_gida','genel_kategori_hijyen','genel_kategori_icecek'],axis=1)\n"
      ],
      "metadata": {
        "id": "DJhTHWBBPlni"
      },
      "execution_count": 425,
      "outputs": []
    },
    {
      "cell_type": "code",
      "source": [
        "# data_trans=all_trns_data.groupby(['individualnumber','category_number','gender']).mean().reset_index()\n",
        "# train.category_number=train.category_number.apply(replace_with_key)\n",
        "# test.category_number=test.category_number.apply(replace_with_key)\n",
        "# train.category_number=train.category_number.astype('object')\n",
        "# train.individualnumber=train.individualnumber.astype('object')\n",
        "# test.category_number=test.category_number.astype('object')\n",
        "# test.individualnumber=test.individualnumber.astype('object')\n",
        "# train_X=train.iloc[:,train.columns!='response']\n",
        "# train_y=train.iloc[:,train.columns=='response']\n",
        "# data_trans[data_trans.individualnumber=='92472145']\n",
        "# data_trans.individualnumber=data_trans.individualnumber.astype(int)\n",
        "# train_X.individualnumber=train_X.individualnumber.astype(int)\n",
        "# test.individualnumber=test.individualnumber.astype(int)\n",
        "# train_X=pd.merge(train_X,data_trans ,left_on=['individualnumber','category_number'],right_on=['individualnumber','category_number'], how='left')\n",
        "# test=test.merge(data_trans ,on=['individualnumber','category_number'], how='left')\n",
        "# test.drop('discount_type_1',axis=1,inplace=True)\n",
        "# train_X.drop('discount_type_1',axis=1,inplace=True)\n",
        "# train_X.drop(['individualnumber'],axis=1,inplace=True)\n",
        "# test.drop(['individualnumber'],axis=1,inplace=True)\n",
        "# train_X.is_sanal=np.where(train_X.is_sanal<0.5,'No','Yes')\n",
        "# test.is_sanal=np.where(test.is_sanal<0.5,'No','Yes')\n",
        "# train_X_wd_i_s = Standardize(train_X_wd_i) # Train data with standardized\n",
        "# test_wd_i_s = Standardize(test_wd_i) # Test data with standardized"
      ],
      "metadata": {
        "id": "y9l735WSB90q"
      },
      "execution_count": 356,
      "outputs": []
    },
    {
      "cell_type": "code",
      "source": [
        "# !pip install verstack"
      ],
      "metadata": {
        "id": "hlepa74n9eB2"
      },
      "execution_count": null,
      "outputs": []
    },
    {
      "cell_type": "markdown",
      "source": [
        "## **Decision Tree**"
      ],
      "metadata": {
        "id": "fKXTmdxIvuM6"
      }
    },
    {
      "cell_type": "code",
      "source": [
        "from sklearn.tree import DecisionTreeClassifier\n",
        "from sklearn.metrics import classification_report\n",
        "from sklearn.metrics import confusion_matrix"
      ],
      "metadata": {
        "id": "IYqx7VQ9UDay"
      },
      "execution_count": 426,
      "outputs": []
    },
    {
      "cell_type": "code",
      "source": [
        "results = []\n",
        "number_of_pos_pred=[]\n",
        "# max_depth_options = [2,4,6,8,10,12,14,16,18,20,25,30,35,40,45,50,55]\n",
        "max_depth_options = [45]\n",
        "for trees in max_depth_options:\n",
        "    model = DecisionTreeClassifier(max_depth=trees, random_state=101)\n",
        "    model.fit(train_ws, train_y)\n",
        "    y_pred_train = model.predict(train_ws)\n",
        "    y_pred_dt_ws = model.predict(test_ws)\n",
        "    accuracy = np.mean(train_y==y_pred_train)\n",
        "    number_of_pos_pred.append(sum(y_pred_dt_ws==1))\n",
        "    results.append(accuracy)\n",
        "print('max pos: ',max(number_of_pos_pred))\n",
        "\n",
        "print(y_pred_dt_ws)\n",
        "plt.figure(figsize=(8,4))\n",
        "pd.Series(number_of_pos_pred, max_depth_options).plot(color=\"darkred\",marker=\"o\")\n",
        "plt.show()"
      ],
      "metadata": {
        "colab": {
          "base_uri": "https://localhost:8080/",
          "height": 301
        },
        "id": "EDSdJwAIxc2Q",
        "outputId": "e9b30a21-84e8-4d61-802d-9929afe35fba"
      },
      "execution_count": 427,
      "outputs": [
        {
          "output_type": "stream",
          "name": "stdout",
          "text": [
            "max pos:  267\n",
            "[0 0 0 ... 0 0 0]\n"
          ]
        },
        {
          "output_type": "display_data",
          "data": {
            "text/plain": [
              "<Figure size 576x288 with 1 Axes>"
            ],
            "image/png": "[encoded data removed]"
          },
          "metadata": {
            "needs_background": "light"
          }
        }
      ]
    },
    {
      "cell_type": "code",
      "source": [
        "results = []\n",
        "number_of_pos_pred=[]\n",
        "# max_depth_options = [2,4,6,8,10,12,14,16,18,20,25,30,35,40,45,50,55]\n",
        "max_depth_options = [45]\n",
        "for trees in max_depth_options:\n",
        "    model = DecisionTreeClassifier(max_depth=trees, random_state=101)\n",
        "    model.fit(train_wot, train_y)\n",
        "    y_pred_train = model.predict(train_wot)\n",
        "    y_pred_dt_wot = model.predict(test_wot)\n",
        "    accuracy = np.mean(train_y==y_pred_train)\n",
        "    number_of_pos_pred.append(sum(y_pred_dt_wot==1))\n",
        "    results.append(accuracy)\n",
        "print('max pos: ',max(number_of_pos_pred))\n",
        "print(number_of_pos_pred)\n",
        "plt.figure(figsize=(8,4))\n",
        "pd.Series(number_of_pos_pred, max_depth_options).plot(color=\"darkred\",marker=\"o\")"
      ],
      "metadata": {
        "colab": {
          "base_uri": "https://localhost:8080/",
          "height": 320
        },
        "id": "gNGxSieyAgEC",
        "outputId": "b41d7fe4-1203-4a54-a0ee-364d87971ee4"
      },
      "execution_count": 429,
      "outputs": [
        {
          "output_type": "stream",
          "name": "stdout",
          "text": [
            "max pos:  257\n",
            "[257]\n"
          ]
        },
        {
          "output_type": "execute_result",
          "data": {
            "text/plain": [
              "<matplotlib.axes._subplots.AxesSubplot at 0x7f60ef5f27c0>"
            ]
          },
          "metadata": {},
          "execution_count": 429
        },
        {
          "output_type": "display_data",
          "data": {
            "text/plain": [
              "<Figure size 576x288 with 1 Axes>"
            ],
            "image/png": "[encoded data removed]"
          },
          "metadata": {
            "needs_background": "light"
          }
        }
      ]
    },
    {
      "cell_type": "code",
      "source": [
        "test_res=pd.read_csv('test.csv')\n",
        "res=pd.concat([test_res.individualnumber,pd.DataFrame(y_pred_dt_ws,columns=['response'])],axis=1)\n",
        "y_pred_dt_ws.shape\n",
        "res.to_csv('results_dt_ws.csv',index=False)"
      ],
      "metadata": {
        "id": "ijf-C6aYJAFF"
      },
      "execution_count": 430,
      "outputs": []
    },
    {
      "cell_type": "code",
      "source": [
        "test_res=pd.read_csv('test.csv')\n",
        "res=pd.concat([test_res.individualnumber,pd.DataFrame(y_pred_dt_wot,columns=['response'])],axis=1)\n",
        "res.to_csv('results_dt_wot.csv',index=False)"
      ],
      "metadata": {
        "id": "j4q_HQPpJvo4"
      },
      "execution_count": 431,
      "outputs": []
    },
    {
      "cell_type": "markdown",
      "source": [
        "## **KNN**"
      ],
      "metadata": {
        "id": "o14xAM6Ivljs"
      }
    },
    {
      "cell_type": "code",
      "source": [
        "from sklearn.neighbors import KNeighborsClassifier\n",
        "from sklearn.metrics import classification_report\n",
        "from sklearn.metrics import confusion_matrix"
      ],
      "metadata": {
        "id": "bAZiQm7TtlqU"
      },
      "execution_count": 432,
      "outputs": []
    },
    {
      "cell_type": "code",
      "source": [
        "results = []\n",
        "number_of_pos_pred=[]\n",
        "# nneighbors=[i for i in range(1,16)]\n",
        "nneighbors=[1]\n",
        "for i in nneighbors:    \n",
        "    model = KNeighborsClassifier(n_neighbors=i)\n",
        "    model.fit(train_ws, train_y)\n",
        "    y_pred_train = model.predict(train_ws)\n",
        "    y_pred_knn_ws = model.predict(test_ws)\n",
        "    accuracy = np.mean(train_y==y_pred_train)\n",
        "    number_of_pos_pred.append(sum(y_pred_knn_ws==1))\n",
        "    results.append(accuracy)\n",
        "print('max pos: ',max(number_of_pos_pred))\n",
        "max_value = max(number_of_pos_pred)\n",
        "print(nneighbors[number_of_pos_pred.index(max_value)])\n",
        "# plt.figure(figsize=(8,4))\n",
        "# pd.Series(number_of_pos_pred, nneighbors).plot(color=\"darkred\",marker=\"o\")"
      ],
      "metadata": {
        "colab": {
          "base_uri": "https://localhost:8080/"
        },
        "id": "1ynCXstsuO6B",
        "outputId": "c27bfa64-9b94-4fa1-fcbf-65b440b99584"
      },
      "execution_count": 436,
      "outputs": [
        {
          "output_type": "stream",
          "name": "stdout",
          "text": [
            "max pos:  239\n",
            "1\n"
          ]
        }
      ]
    },
    {
      "cell_type": "code",
      "source": [
        "test_res=pd.read_csv('test.csv')\n",
        "res=pd.concat([test_res.individualnumber,pd.DataFrame(y_pred_knn_ws,columns=['response'])],axis=1)\n",
        "res.to_csv('results_knn_ws.csv',index=False)"
      ],
      "metadata": {
        "id": "RLxTiy07LXIV"
      },
      "execution_count": 437,
      "outputs": []
    },
    {
      "cell_type": "code",
      "source": [
        "plt.figure(figsize=(8,4))\n",
        "plt.plot(np.array(nneighbors),1-np.array(results),color='darkred', marker='o',markersize=10)\n",
        "plt.title('Error Rate vs. K Value')\n",
        "plt.xlabel('K')\n",
        "plt.ylabel('Error Rate')"
      ],
      "metadata": {
        "colab": {
          "base_uri": "https://localhost:8080/",
          "height": 313
        },
        "id": "SJdU7WKiA7Wm",
        "outputId": "b24f105b-9efd-4b3f-b1b1-43c9924f36fd"
      },
      "execution_count": 363,
      "outputs": [
        {
          "output_type": "execute_result",
          "data": {
            "text/plain": [
              "Text(0, 0.5, 'Error Rate')"
            ]
          },
          "metadata": {},
          "execution_count": 363
        },
        {
          "output_type": "display_data",
          "data": {
            "text/plain": [
              "<Figure size 576x288 with 1 Axes>"
            ],
            "image/png": "[encoded data removed]"
          },
          "metadata": {
            "needs_background": "light"
          }
        }
      ]
    },
    {
      "cell_type": "code",
      "source": [
        "results = []\n",
        "number_of_pos_pred=[]\n",
        "# nneighbors=[i for i in range(1,16)]\n",
        "nneighbors=[1]\n",
        "for i in nneighbors:    \n",
        "    model = KNeighborsClassifier(n_neighbors=i)\n",
        "    model.fit(train_wot, train_y)\n",
        "    y_pred_train = model.predict(train_wot)\n",
        "    y_pred_knn_wot = model.predict(test_wot)\n",
        "    accuracy = np.mean(train_y==y_pred_train)\n",
        "    number_of_pos_pred.append(sum(y_pred_knn_wot==1))\n",
        "    results.append(accuracy)\n",
        "print('max pos: ',max(number_of_pos_pred))\n",
        "max_value = max(number_of_pos_pred)\n",
        "print(nneighbors[number_of_pos_pred.index(max_value)])\n",
        "# plt.figure(figsize=(8,4))\n",
        "# pd.Series(number_of_pos_pred, nneighbors).plot(color=\"darkred\",marker=\"o\")"
      ],
      "metadata": {
        "colab": {
          "base_uri": "https://localhost:8080/"
        },
        "id": "gPT70fpuAwOM",
        "outputId": "16a6fca1-0e6d-4327-a501-5d17c9577f14"
      },
      "execution_count": 453,
      "outputs": [
        {
          "output_type": "stream",
          "name": "stdout",
          "text": [
            "max pos:  250\n",
            "1\n"
          ]
        }
      ]
    },
    {
      "cell_type": "code",
      "source": [
        "test_res=pd.read_csv('test.csv')\n",
        "res=pd.concat([test_res.individualnumber,pd.DataFrame(y_pred_knn_wot,columns=['response'])],axis=1)\n",
        "res.to_csv('results_knn_wot.csv',index=False)"
      ],
      "metadata": {
        "id": "ZvhVe6pFLi2T"
      },
      "execution_count": 454,
      "outputs": []
    },
    {
      "cell_type": "code",
      "source": [
        "plt.figure(figsize=(8,4))\n",
        "plt.plot(np.array(nneighbors),1-np.array(results),color='darkred', marker='o',markersize=10)\n",
        "plt.title('Error Rate vs. K Value')\n",
        "plt.xlabel('K')\n",
        "plt.ylabel('Error Rate')"
      ],
      "metadata": {
        "colab": {
          "base_uri": "https://localhost:8080/",
          "height": 313
        },
        "id": "U-HL9dzyukbS",
        "outputId": "1e6aad3b-137d-4d4f-ed71-c4e6b69c4542"
      },
      "execution_count": 365,
      "outputs": [
        {
          "output_type": "execute_result",
          "data": {
            "text/plain": [
              "Text(0, 0.5, 'Error Rate')"
            ]
          },
          "metadata": {},
          "execution_count": 365
        },
        {
          "output_type": "display_data",
          "data": {
            "text/plain": [
              "<Figure size 576x288 with 1 Axes>"
            ],
            "image/png": "[encoded data removed]"
          },
          "metadata": {
            "needs_background": "light"
          }
        }
      ]
    },
    {
      "cell_type": "markdown",
      "source": [
        "## **Logistic Regression**\n"
      ],
      "metadata": {
        "id": "IyTfTw2QvdPT"
      }
    },
    {
      "cell_type": "code",
      "source": [
        "from sklearn.linear_model import LogisticRegression"
      ],
      "metadata": {
        "id": "KBHVKTIfys4G"
      },
      "execution_count": 366,
      "outputs": []
    },
    {
      "cell_type": "code",
      "source": [
        "lr =  LogisticRegression()\n",
        "lr.fit(train_ws, train_y)\n",
        "y_pred=lr.predict(test_ws)\n",
        "y_pred_train=lr.predict(train_ws)\n",
        "sum(y_pred>=0.5)"
      ],
      "metadata": {
        "colab": {
          "base_uri": "https://localhost:8080/"
        },
        "id": "7uMhV3ZZysbi",
        "outputId": "12cd70f9-8f42-49f7-c415-e82817807fa1"
      },
      "execution_count": 451,
      "outputs": [
        {
          "output_type": "stream",
          "name": "stderr",
          "text": [
            "/usr/local/lib/python3.8/dist-packages/sklearn/linear_model/_logistic.py:814: ConvergenceWarning: lbfgs failed to converge (status=1):\n",
            "STOP: TOTAL NO. of ITERATIONS REACHED LIMIT.\n",
            "\n",
            "Increase the number of iterations (max_iter) or scale the data as shown in:\n",
            "    https://scikit-learn.org/stable/modules/preprocessing.html\n",
            "Please also refer to the documentation for alternative solver options:\n",
            "    https://scikit-learn.org/stable/modules/linear_model.html#logistic-regression\n",
            "  n_iter_i = _check_optimize_result(\n"
          ]
        },
        {
          "output_type": "execute_result",
          "data": {
            "text/plain": [
              "0"
            ]
          },
          "metadata": {},
          "execution_count": 451
        }
      ]
    },
    {
      "cell_type": "code",
      "source": [
        "lr =  LogisticRegression()\n",
        "lr.fit(train_wot, train_y)\n",
        "y_pred=lr.predict(test_wot)\n",
        "y_pred_train=lr.predict(train_wot)\n",
        "sum(y_pred==1)"
      ],
      "metadata": {
        "colab": {
          "base_uri": "https://localhost:8080/"
        },
        "id": "Puqk1Y9mBEar",
        "outputId": "b9634645-954a-4dc9-ce4e-53fe71c2ee48"
      },
      "execution_count": 368,
      "outputs": [
        {
          "output_type": "stream",
          "name": "stderr",
          "text": [
            "/usr/local/lib/python3.8/dist-packages/sklearn/linear_model/_logistic.py:814: ConvergenceWarning: lbfgs failed to converge (status=1):\n",
            "STOP: TOTAL NO. of ITERATIONS REACHED LIMIT.\n",
            "\n",
            "Increase the number of iterations (max_iter) or scale the data as shown in:\n",
            "    https://scikit-learn.org/stable/modules/preprocessing.html\n",
            "Please also refer to the documentation for alternative solver options:\n",
            "    https://scikit-learn.org/stable/modules/linear_model.html#logistic-regression\n",
            "  n_iter_i = _check_optimize_result(\n"
          ]
        },
        {
          "output_type": "execute_result",
          "data": {
            "text/plain": [
              "0"
            ]
          },
          "metadata": {},
          "execution_count": 368
        }
      ]
    },
    {
      "cell_type": "markdown",
      "source": [
        "## **Naive Bayes**"
      ],
      "metadata": {
        "id": "KJ-OvUXUzy3H"
      }
    },
    {
      "cell_type": "code",
      "source": [
        "from sklearn.naive_bayes import GaussianNB"
      ],
      "metadata": {
        "id": "JQBBPiLnzW6G"
      },
      "execution_count": 440,
      "outputs": []
    },
    {
      "cell_type": "code",
      "source": [
        "nb =  GaussianNB()\n",
        "nb.fit(train_ws, train_y)\n",
        "y_pred_nb=nb.predict(test_ws)\n",
        "sum(y_pred_nb>=0.5)"
      ],
      "metadata": {
        "colab": {
          "base_uri": "https://localhost:8080/"
        },
        "id": "5rQetxYzz7c1",
        "outputId": "64079bd9-2319-4b47-a5fd-9a51c87528a3"
      },
      "execution_count": 442,
      "outputs": [
        {
          "output_type": "execute_result",
          "data": {
            "text/plain": [
              "114"
            ]
          },
          "metadata": {},
          "execution_count": 442
        }
      ]
    },
    {
      "cell_type": "code",
      "source": [
        "test_res=pd.read_csv('test.csv')\n",
        "res=pd.concat([test_res.individualnumber,pd.DataFrame(y_pred_nb,columns=['response'])],axis=1)\n",
        "res.to_csv('results_nb_ws.csv',index=False)"
      ],
      "metadata": {
        "id": "dbHH4vA7R-xQ"
      },
      "execution_count": 444,
      "outputs": []
    },
    {
      "cell_type": "code",
      "source": [
        "nb =  GaussianNB()\n",
        "nb.fit(train_wot, train_y)\n",
        "y_pred=nb.predict(test_wot)\n",
        "sum(y_pred==1)"
      ],
      "metadata": {
        "colab": {
          "base_uri": "https://localhost:8080/"
        },
        "id": "vk_pim9yBO_Z",
        "outputId": "b9b92e4a-9ac6-44e0-d037-7fa830224c6b"
      },
      "execution_count": 443,
      "outputs": [
        {
          "output_type": "execute_result",
          "data": {
            "text/plain": [
              "104"
            ]
          },
          "metadata": {},
          "execution_count": 443
        }
      ]
    },
    {
      "cell_type": "markdown",
      "source": [
        "## **Random Forest**"
      ],
      "metadata": {
        "id": "-TCjFbv00OlZ"
      }
    },
    {
      "cell_type": "code",
      "source": [
        "from sklearn.ensemble import RandomForestClassifier\n",
        "clf = RandomForestClassifier(max_depth=70, random_state=42)\n",
        "clf.fit(train_ws,train_y)\n",
        "train_preds=clf.predict(train_ws)\n",
        "preds = clf.predict(test_ws)\n",
        "\n",
        "(preds==1).sum()\n",
        "accuracy= np.sqrt(accuracy_score(train_preds, train_y))\n",
        "print(\"Accuracy : %f\" % (accuracy))"
      ],
      "metadata": {
        "id": "lZzSjz9uVBF8"
      },
      "execution_count": null,
      "outputs": []
    },
    {
      "cell_type": "code",
      "source": [
        "results = []\n",
        "number_of_pos_pred=[]\n",
        "n_estimator_options = np.arange(5,250,5)\n",
        "# n_estimator_options = []\n",
        "for trees in n_estimator_options:\n",
        "    model = RandomForestClassifier(trees, n_jobs=-1, random_state=101)\n",
        "    model.fit(train_ws, train_y)\n",
        "    y_pred_rf_ws = model.predict(test_ws)\n",
        "    y_pred_train = model.predict(train_ws)\n",
        "    accuracy = np.mean(y_pred_train==train_y)\n",
        "    results.append(accuracy)\n",
        "    number_of_pos_pred.append(sum(y_pred_rf_ws==1))\n",
        "print('max pos: ',max(number_of_pos_pred))\n",
        "max_value = max(number_of_pos_pred)\n",
        "print(n_estimator_options[number_of_pos_pred.index(max_value)])\n",
        "# plt.figure(figsize=(8,4))\n",
        "# pd.Series(number_of_pos_pred, n_estimator_options).plot(color=\"darkred\",marker=\"o\")"
      ],
      "metadata": {
        "colab": {
          "base_uri": "https://localhost:8080/"
        },
        "id": "vFmvEU520fx-",
        "outputId": "b6613e47-e6e9-4b16-b6d7-b58fd799caac"
      },
      "execution_count": 448,
      "outputs": [
        {
          "output_type": "stream",
          "name": "stdout",
          "text": [
            "max pos:  30\n",
            "5\n"
          ]
        }
      ]
    },
    {
      "cell_type": "code",
      "source": [
        "test_res=pd.read_csv('test.csv')\n",
        "res=pd.concat([test_res.individualnumber,pd.DataFrame(y_pred_rf_ws,columns=['response'])],axis=1)\n",
        "res.to_csv('results_rf_ws.csv',index=False)"
      ],
      "metadata": {
        "id": "oEBRWKRIMAp5"
      },
      "execution_count": 449,
      "outputs": []
    },
    {
      "cell_type": "code",
      "source": [
        "results = []\n",
        "number_of_pos_pred=[]\n",
        "# n_estimator_options = np.arange(5,250,5)\n",
        "n_estimator_options = [105]\n",
        "for trees in n_estimator_options:\n",
        "    model = RandomForestClassifier(trees, n_jobs=-1, random_state=101)\n",
        "    model.fit(train_wot, train_y)\n",
        "    y_pred_rf_wot = model.predict(test_wot)\n",
        "    y_pred_train = model.predict(test_wot)\n",
        "    accuracy = np.mean(y_pred_train==train_y)\n",
        "    results.append(accuracy)\n",
        "    number_of_pos_pred.append(sum(y_pred_rf_wot==1))\n",
        "print('max pos: ',max(number_of_pos_pred))\n",
        "max_value = max(number_of_pos_pred)\n",
        "print(n_estimator_options[number_of_pos_pred.index(max_value)])\n",
        "# plt.figure(figsize=(8,4))\n",
        "# pd.Series(number_of_pos_pred, n_estimator_options).plot(color=\"darkred\",marker=\"o\")"
      ],
      "metadata": {
        "colab": {
          "base_uri": "https://localhost:8080/"
        },
        "id": "VAe9KcNABVb9",
        "outputId": "2c234ec4-3867-4cfc-ad01-e71e18573ac8"
      },
      "execution_count": 418,
      "outputs": [
        {
          "output_type": "stream",
          "name": "stdout",
          "text": [
            "max pos:  184\n",
            "105\n"
          ]
        }
      ]
    },
    {
      "cell_type": "code",
      "source": [
        "test_res=pd.read_csv('test.csv')\n",
        "res=pd.concat([test_res.individualnumber,pd.DataFrame(y_pred_rf_wot,columns=['response'])],axis=1)\n",
        "res.to_csv('results_rf_wot.csv',index=False)"
      ],
      "metadata": {
        "id": "Fvnb7eMuNiKM"
      },
      "execution_count": 419,
      "outputs": []
    },
    {
      "cell_type": "markdown",
      "source": [
        "## **Stochastic Gradient Descent**"
      ],
      "metadata": {
        "id": "gHUz1DZi1WPm"
      }
    },
    {
      "cell_type": "code",
      "source": [
        "from sklearn.linear_model import SGDClassifier"
      ],
      "metadata": {
        "id": "L6hq9lWv1lWY"
      },
      "execution_count": 375,
      "outputs": []
    },
    {
      "cell_type": "code",
      "source": [
        "sgd =  SGDClassifier(loss='modified_huber', shuffle=True,random_state=101)\n",
        "sgd.fit(train_ws, train_y)\n",
        "y_pred=sgd.predict(test_ws)\n",
        "sum(y_pred>=0.5)"
      ],
      "metadata": {
        "colab": {
          "base_uri": "https://localhost:8080/"
        },
        "id": "t1Z0GB7m1qTq",
        "outputId": "2a038eb4-bea7-46ec-8f99-655189359218"
      },
      "execution_count": 376,
      "outputs": [
        {
          "output_type": "execute_result",
          "data": {
            "text/plain": [
              "0"
            ]
          },
          "metadata": {},
          "execution_count": 376
        }
      ]
    },
    {
      "cell_type": "code",
      "source": [
        "sgd =  SGDClassifier(loss='modified_huber', shuffle=True,random_state=101)\n",
        "sgd.fit(train_wot, train_y)\n",
        "y_pred=sgd.predict(test_wot)\n",
        "sum(y_pred>=0.5)"
      ],
      "metadata": {
        "colab": {
          "base_uri": "https://localhost:8080/"
        },
        "id": "Ys-MsYJiBagE",
        "outputId": "aac01684-1d56-4e8b-c52c-89bc87821465"
      },
      "execution_count": 377,
      "outputs": [
        {
          "output_type": "execute_result",
          "data": {
            "text/plain": [
              "0"
            ]
          },
          "metadata": {},
          "execution_count": 377
        }
      ]
    },
    {
      "cell_type": "markdown",
      "source": [
        "## **Support Vector Machine**"
      ],
      "metadata": {
        "id": "ZSdOH_vC15Ib"
      }
    },
    {
      "cell_type": "code",
      "source": [
        "from sklearn.svm import SVC"
      ],
      "metadata": {
        "id": "e8qL6Vz_1_oq"
      },
      "execution_count": 378,
      "outputs": []
    },
    {
      "cell_type": "code",
      "source": [
        "svm =  SVC(kernel=\"rbf\", C=0.025,random_state=101)\n",
        "svm.fit(train_ws, train_y)\n",
        "y_pred=svm.predict(test_ws)\n",
        "print(sum(y_pred==1))\n",
        "svm =  SVC(kernel=\"linear\", C=0.025,random_state=101)\n",
        "svm.fit(train_ws, train_y)\n",
        "y_pred=svm.predict(test_ws)\n",
        "print(sum(y_pred==1))\n",
        "svm =  SVC(kernel=\"poly\", C=0.025,random_state=101)\n",
        "svm.fit(train_ws, train_y)\n",
        "y_pred=svm.predict(test_ws)\n",
        "print(sum(y_pred==1))"
      ],
      "metadata": {
        "colab": {
          "base_uri": "https://localhost:8080/"
        },
        "id": "mO10X-Fi2CkB",
        "outputId": "6da32163-f03f-438b-bbf7-89453bffa7b6"
      },
      "execution_count": 379,
      "outputs": [
        {
          "output_type": "stream",
          "name": "stdout",
          "text": [
            "0\n",
            "0\n",
            "0\n"
          ]
        }
      ]
    },
    {
      "cell_type": "code",
      "source": [
        "svm =  SVC(kernel=\"rbf\", C=0.025,random_state=101)\n",
        "svm.fit(train_wot, train_y)\n",
        "y_pred=svm.predict(test_wot)\n",
        "print(sum(y_pred==1))\n",
        "svm =  SVC(kernel=\"linear\", C=0.025,random_state=101)\n",
        "svm.fit(train_wot, train_y)\n",
        "y_pred=svm.predict(test_wot)\n",
        "print(sum(y_pred==1))\n",
        "svm =  SVC(kernel=\"poly\", C=0.025,random_state=101)\n",
        "svm.fit(train_wot, train_y)\n",
        "y_pred=svm.predict(test_wot)\n",
        "print(sum(y_pred==1))"
      ],
      "metadata": {
        "colab": {
          "base_uri": "https://localhost:8080/"
        },
        "id": "sbS6ovl_Bhax",
        "outputId": "1545680b-74b1-4d07-a18f-be0ab4749d48"
      },
      "execution_count": 380,
      "outputs": [
        {
          "output_type": "stream",
          "name": "stdout",
          "text": [
            "0\n",
            "1\n",
            "0\n"
          ]
        }
      ]
    },
    {
      "cell_type": "markdown",
      "source": [
        "## **Neural Network**"
      ],
      "metadata": {
        "id": "JARLoKOy3e1Q"
      }
    },
    {
      "cell_type": "code",
      "source": [
        "import keras\n",
        "from keras.layers import Dense\n",
        "from keras.layers import Dropout\n",
        "from keras.layers import Flatten\n",
        "from keras.models import Sequential\n",
        "from keras.optimizers import Adam\n",
        "from keras.wrappers.scikit_learn import KerasClassifier\n",
        "from sklearn.model_selection import GridSearchCV, KFold"
      ],
      "metadata": {
        "id": "LoUvfCl53kW_"
      },
      "execution_count": 381,
      "outputs": []
    },
    {
      "cell_type": "code",
      "source": [
        "\n",
        "def get_nn_model(hiddenLayerOne=500, hiddenLayerTwo=400,dropout=0.3, learnRate=0.3):\n",
        "  model = Sequential()\n",
        "  model.add(Dense(hiddenLayerOne, input_shape=(16,), activation='relu'))\n",
        "  model.add(Dropout(dropout))\n",
        "  model.add(Dense(hiddenLayerTwo, activation='relu'))\n",
        "  model.add(Dropout(dropout))\n",
        "  model.add(Dense(1, activation='sigmoid'))\n",
        "  model.compile(loss='binary_crossentropy', optimizer='adam')\n",
        "  return model\n",
        "\n",
        "estimator = get_nn_model()\n",
        "estimator.fit(x=train_ws, y=train_y, batch_size=16,epochs=10,validation_split=0.2, verbose=0)\n",
        "test_predictions=estimator.predict(test_ws)\n",
        "\n",
        "sum(test_predictions>=0.5)"
      ],
      "metadata": {
        "colab": {
          "base_uri": "https://localhost:8080/"
        },
        "id": "-27O1u9S34b3",
        "outputId": "0652c76b-e939-4633-e636-7e3068e0561e"
      },
      "execution_count": 382,
      "outputs": [
        {
          "output_type": "stream",
          "name": "stdout",
          "text": [
            "410/410 [==============================] - 1s 2ms/step\n"
          ]
        },
        {
          "output_type": "execute_result",
          "data": {
            "text/plain": [
              "array([0])"
            ]
          },
          "metadata": {},
          "execution_count": 382
        }
      ]
    },
    {
      "cell_type": "code",
      "source": [
        "# model = KerasClassifier(build_fn=get_nn_model, verbose=0)\n",
        "# hiddenLayerOne = np.arange(100,650,100)\n",
        "# hiddenLayerTwo = np.arange(100,650,100)\n",
        "# learnRate = np.linspace(0.00001,0.1,10,endpoint=True)\n",
        "# # dropout = np.linspace(0.2,0.9,8,endpoint=True)\n",
        "# # batchSize = [32,64,128,256]\n",
        "# # epochs = [10, 20, 30]\n",
        "# # hiddenLayerTwo=hiddenLayerTwo\n",
        "# # dropout=dropout\n",
        "# # batch_size=batchSize\n",
        "# # epochs=epochs\n",
        "# # validation_split=np.linspace(0.2,0.9,8,endpoint=True)\n",
        "# # # create a dictionary from the hyperparameter grid\n",
        "# grid = dict(\n",
        "# \t# dropout=[0.8],\n",
        "# \t# epochs=[20],\n",
        "# \tbatch_size=[32],\n",
        "# \thiddenLayerOne=hiddenLayerOne,\n",
        "# \thiddenLayerTwo=hiddenLayerTwo,\n",
        "#   learnRate= learnRate\n",
        "# )\n",
        "# # print(\"[INFO] performing random search...\")\n",
        "# searcher = GridSearchCV(estimator=model, n_jobs=-1, cv=KFold(shuffle=True,n_splits=5,random_state=412),\n",
        "# \tparam_grid=grid, scoring=\"neg_root_mean_squared_error\")\n",
        "# searchResults = searcher.fit(train_ws, train_y)\n",
        "# # # summarize grid search information\n",
        "# bestParams = searchResults.best_params_\n",
        "# print(\"[INFO] best param is {}\".format(bestParams))"
      ],
      "metadata": {
        "id": "NodEM8_k-ipP"
      },
      "execution_count": null,
      "outputs": []
    }
  ]
}